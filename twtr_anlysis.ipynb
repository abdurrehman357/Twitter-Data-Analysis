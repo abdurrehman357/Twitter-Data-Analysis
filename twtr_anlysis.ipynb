{
 "cells": [
  {
   "cell_type": "code",
   "execution_count": 22,
   "id": "5003951f",
   "metadata": {},
   "outputs": [],
   "source": [
    "import pandas as pd\n",
    "import numpy as np\n",
    "import matplotlib.pyplot as plt\n",
    "import seaborn as sns\n",
    "import re\n",
    "import nltk\n",
    "from nltk.corpus import stopwords\n",
    "from nltk.stem.porter import PorterStemmer\n",
    "from sklearn.feature_extraction.text import CountVectorizer\n",
    "from sklearn.model_selection import train_test_split\n",
    "from sklearn.naive_bayes import MultinomialNB\n",
    "from sklearn.metrics import confusion_matrix, classification_report"
   ]
  },
  {
   "cell_type": "code",
   "execution_count": 45,
   "id": "ebdb577c",
   "metadata": {},
   "outputs": [
    {
     "data": {
      "text/html": [
       "<div>\n",
       "<style scoped>\n",
       "    .dataframe tbody tr th:only-of-type {\n",
       "        vertical-align: middle;\n",
       "    }\n",
       "\n",
       "    .dataframe tbody tr th {\n",
       "        vertical-align: top;\n",
       "    }\n",
       "\n",
       "    .dataframe thead th {\n",
       "        text-align: right;\n",
       "    }\n",
       "</style>\n",
       "<table border=\"1\" class=\"dataframe\">\n",
       "  <thead>\n",
       "    <tr style=\"text-align: right;\">\n",
       "      <th></th>\n",
       "      <th>r1</th>\n",
       "      <th>r2</th>\n",
       "    </tr>\n",
       "  </thead>\n",
       "  <tbody>\n",
       "    <tr>\n",
       "      <th>0</th>\n",
       "      <td>Positive</td>\n",
       "      <td>im getting on borderlands and i will murder yo...</td>\n",
       "    </tr>\n",
       "    <tr>\n",
       "      <th>1</th>\n",
       "      <td>Positive</td>\n",
       "      <td>I am coming to the borders and I will kill you...</td>\n",
       "    </tr>\n",
       "    <tr>\n",
       "      <th>2</th>\n",
       "      <td>Positive</td>\n",
       "      <td>im getting on borderlands and i will kill you ...</td>\n",
       "    </tr>\n",
       "    <tr>\n",
       "      <th>3</th>\n",
       "      <td>Positive</td>\n",
       "      <td>im coming on borderlands and i will murder you...</td>\n",
       "    </tr>\n",
       "    <tr>\n",
       "      <th>4</th>\n",
       "      <td>Positive</td>\n",
       "      <td>im getting on borderlands 2 and i will murder ...</td>\n",
       "    </tr>\n",
       "  </tbody>\n",
       "</table>\n",
       "</div>"
      ],
      "text/plain": [
       "         r1                                                 r2\n",
       "0  Positive  im getting on borderlands and i will murder yo...\n",
       "1  Positive  I am coming to the borders and I will kill you...\n",
       "2  Positive  im getting on borderlands and i will kill you ...\n",
       "3  Positive  im coming on borderlands and i will murder you...\n",
       "4  Positive  im getting on borderlands 2 and i will murder ..."
      ]
     },
     "execution_count": 45,
     "metadata": {},
     "output_type": "execute_result"
    }
   ],
   "source": [
    "sms = pd.read_csv('C:/Users/Abd ur Rehman/Desktop/Rimsha+ Samra project/Twtr data set/Twtr_data.csv', encoding='latin-1')\n",
    "sms.head()"
   ]
  },
  {
   "cell_type": "code",
   "execution_count": 47,
   "id": "b17e5c2e",
   "metadata": {},
   "outputs": [
    {
     "name": "stderr",
     "output_type": "stream",
     "text": [
      "C:\\Users\\Abd ur Rehman\\anaconda3\\lib\\site-packages\\seaborn\\_decorators.py:36: FutureWarning: Pass the following variable as a keyword arg: x. From version 0.12, the only valid positional argument will be `data`, and passing other arguments without an explicit keyword will result in an error or misinterpretation.\n",
      "  warnings.warn(\n"
     ]
    },
    {
     "data": {
      "text/plain": [
       "<AxesSubplot:xlabel='r1', ylabel='count'>"
      ]
     },
     "execution_count": 47,
     "metadata": {},
     "output_type": "execute_result"
    },
    {
     "data": {
      "image/png": "[encoded data removed]",
      "text/plain": [
       "<Figure size 432x288 with 1 Axes>"
      ]
     },
     "metadata": {
      "needs_background": "light"
     },
     "output_type": "display_data"
    }
   ],
   "source": [
    "sns.countplot(sms['r1'])"
   ]
  },
  {
   "cell_type": "code",
   "execution_count": 48,
   "id": "03dc12ab",
   "metadata": {},
   "outputs": [
    {
     "name": "stdout",
     "output_type": "stream",
     "text": [
      "<class 'pandas.core.frame.DataFrame'>\n",
      "RangeIndex: 7860 entries, 0 to 7859\n",
      "Data columns (total 2 columns):\n",
      " #   Column  Non-Null Count  Dtype \n",
      "---  ------  --------------  ----- \n",
      " 0   r1      7860 non-null   object\n",
      " 1   r2      7773 non-null   object\n",
      "dtypes: object(2)\n",
      "memory usage: 122.9+ KB\n"
     ]
    }
   ],
   "source": [
    "sms.info()"
   ]
  },
  {
   "cell_type": "code",
   "execution_count": 49,
   "id": "0ccefafc",
   "metadata": {},
   "outputs": [
    {
     "data": {
      "text/plain": [
       "r1     0\n",
       "r2    87\n",
       "dtype: int64"
      ]
     },
     "execution_count": 49,
     "metadata": {},
     "output_type": "execute_result"
    }
   ],
   "source": [
    "sms.isnull().sum()"
   ]
  },
  {
   "cell_type": "code",
   "execution_count": 50,
   "id": "a4ebb3df",
   "metadata": {},
   "outputs": [
    {
     "data": {
      "text/html": [
       "<div>\n",
       "<style scoped>\n",
       "    .dataframe tbody tr th:only-of-type {\n",
       "        vertical-align: middle;\n",
       "    }\n",
       "\n",
       "    .dataframe tbody tr th {\n",
       "        vertical-align: top;\n",
       "    }\n",
       "\n",
       "    .dataframe thead th {\n",
       "        text-align: right;\n",
       "    }\n",
       "</style>\n",
       "<table border=\"1\" class=\"dataframe\">\n",
       "  <thead>\n",
       "    <tr style=\"text-align: right;\">\n",
       "      <th></th>\n",
       "      <th>label</th>\n",
       "      <th>text</th>\n",
       "    </tr>\n",
       "  </thead>\n",
       "  <tbody>\n",
       "    <tr>\n",
       "      <th>0</th>\n",
       "      <td>Positive</td>\n",
       "      <td>im getting on borderlands and i will murder yo...</td>\n",
       "    </tr>\n",
       "    <tr>\n",
       "      <th>1</th>\n",
       "      <td>Positive</td>\n",
       "      <td>I am coming to the borders and I will kill you...</td>\n",
       "    </tr>\n",
       "    <tr>\n",
       "      <th>2</th>\n",
       "      <td>Positive</td>\n",
       "      <td>im getting on borderlands and i will kill you ...</td>\n",
       "    </tr>\n",
       "    <tr>\n",
       "      <th>3</th>\n",
       "      <td>Positive</td>\n",
       "      <td>im coming on borderlands and i will murder you...</td>\n",
       "    </tr>\n",
       "    <tr>\n",
       "      <th>4</th>\n",
       "      <td>Positive</td>\n",
       "      <td>im getting on borderlands 2 and i will murder ...</td>\n",
       "    </tr>\n",
       "  </tbody>\n",
       "</table>\n",
       "</div>"
      ],
      "text/plain": [
       "      label                                               text\n",
       "0  Positive  im getting on borderlands and i will murder yo...\n",
       "1  Positive  I am coming to the borders and I will kill you...\n",
       "2  Positive  im getting on borderlands and i will kill you ...\n",
       "3  Positive  im coming on borderlands and i will murder you...\n",
       "4  Positive  im getting on borderlands 2 and i will murder ..."
      ]
     },
     "execution_count": 50,
     "metadata": {},
     "output_type": "execute_result"
    }
   ],
   "source": [
    "sms=sms.rename({'r1':'label','r2':'text'},axis=1)\n",
    "sms.head()"
   ]
  },
  {
   "cell_type": "code",
   "execution_count": 51,
   "id": "dfec5022",
   "metadata": {},
   "outputs": [],
   "source": [
    "sms = sms.dropna()  # Drop rows with missing values"
   ]
  },
  {
   "cell_type": "code",
   "execution_count": 52,
   "id": "f4b0020b",
   "metadata": {},
   "outputs": [],
   "source": [
    "ps=PorterStemmer()\n",
    "def preprocess(x):\n",
    "    x = x.lower()\n",
    "    x = re.sub(r'[^0-9a-zA-Z]', ' ', x)\n",
    "    x = re.sub(r'\\s+', ' ', x)\n",
    "    l = [item for item in x if item not in string.punctuation]\n",
    "    processed=[ps.stem(i) for i in l if i not in stopwords.words('english')]\n",
    "    return processed"
   ]
  },
  {
   "cell_type": "code",
   "execution_count": 54,
   "id": "d983dee6",
   "metadata": {},
   "outputs": [],
   "source": [
    "X=sms['text']\n",
    "y=sms['label']\n",
    "X_train, X_test, y_train, y_test = train_test_split(X,y,test_size=0.3)"
   ]
  },
  {
   "cell_type": "code",
   "execution_count": 55,
   "id": "ff3b55fb",
   "metadata": {},
   "outputs": [],
   "source": [
    "from sklearn.pipeline import Pipeline\n",
    "from sklearn.feature_extraction.text import TfidfTransformer\n",
    "import string\n",
    "\n",
    "def model(model_name,X_train,y_train,X_test,y_test):\n",
    "    pipeline=Pipeline([\n",
    "    ('bow', CountVectorizer(analyzer=preprocess)),\n",
    "    ('tfidf', TfidfTransformer()),\n",
    "    ('model', model_name),\n",
    "    ])\n",
    "    pipeline.fit(X_train,y_train)\n",
    "\n",
    "    preds=pipeline.predict(X_test)\n",
    "\n",
    "    print (classification_report(y_test,preds))\n",
    "    print (confusion_matrix(y_test,preds))\n",
    "    print('Accuracy:', pipeline.score(X_test, y_test)*100)\n",
    "    print(\"Training Score:\",pipeline.score(X_train,y_train)*100)\n",
    "    from sklearn.metrics import accuracy_score\n",
    "    score = accuracy_score(y_test,preds)\n",
    "    return score"
   ]
  },
  {
   "cell_type": "code",
   "execution_count": 56,
   "id": "519645ac",
   "metadata": {},
   "outputs": [
    {
     "name": "stderr",
     "output_type": "stream",
     "text": [
      "C:\\Users\\Abd ur Rehman\\anaconda3\\lib\\site-packages\\sklearn\\metrics\\_classification.py:1248: UndefinedMetricWarning: Precision and F-score are ill-defined and being set to 0.0 in labels with no predicted samples. Use `zero_division` parameter to control this behavior.\n",
      "  _warn_prf(average, modifier, msg_start, len(result))\n",
      "C:\\Users\\Abd ur Rehman\\anaconda3\\lib\\site-packages\\sklearn\\metrics\\_classification.py:1248: UndefinedMetricWarning: Precision and F-score are ill-defined and being set to 0.0 in labels with no predicted samples. Use `zero_division` parameter to control this behavior.\n",
      "  _warn_prf(average, modifier, msg_start, len(result))\n",
      "C:\\Users\\Abd ur Rehman\\anaconda3\\lib\\site-packages\\sklearn\\metrics\\_classification.py:1248: UndefinedMetricWarning: Precision and F-score are ill-defined and being set to 0.0 in labels with no predicted samples. Use `zero_division` parameter to control this behavior.\n",
      "  _warn_prf(average, modifier, msg_start, len(result))\n"
     ]
    },
    {
     "name": "stdout",
     "output_type": "stream",
     "text": [
      "              precision    recall  f1-score   support\n",
      "\n",
      "  Irrelevant       0.00      0.00      0.00       321\n",
      "    Negative       0.00      0.00      0.00       545\n",
      "     Neutral       0.55      0.37      0.44       701\n",
      "    Positive       0.36      0.89      0.52       765\n",
      "\n",
      "    accuracy                           0.40      2332\n",
      "   macro avg       0.23      0.31      0.24      2332\n",
      "weighted avg       0.29      0.40      0.30      2332\n",
      "\n",
      "[[  0   0  55 266]\n",
      " [  0   0  67 478]\n",
      " [  0   0 259 442]\n",
      " [  0   0  87 678]]\n",
      "Accuracy: 40.18010291595197\n",
      "Training Score: 39.36776327880904\n"
     ]
    }
   ],
   "source": [
    "mnb=model(MultinomialNB(),X_train,y_train,X_test,y_test)"
   ]
  },
  {
   "cell_type": "code",
   "execution_count": 57,
   "id": "1fc0c581",
   "metadata": {},
   "outputs": [
    {
     "name": "stdout",
     "output_type": "stream",
     "text": [
      "              precision    recall  f1-score   support\n",
      "\n",
      "  Irrelevant       0.83      0.60      0.70       321\n",
      "    Negative       0.81      0.70      0.75       545\n",
      "     Neutral       0.83      0.82      0.82       701\n",
      "    Positive       0.70      0.87      0.78       765\n",
      "\n",
      "    accuracy                           0.78      2332\n",
      "   macro avg       0.79      0.75      0.76      2332\n",
      "weighted avg       0.78      0.78      0.77      2332\n",
      "\n",
      "[[193  26  30  72]\n",
      " [ 14 381  45 105]\n",
      " [  5  23 572 101]\n",
      " [ 20  38  44 663]]\n",
      "Accuracy: 77.57289879931389\n",
      "Training Score: 98.58481896710164\n"
     ]
    }
   ],
   "source": [
    "from sklearn.ensemble import RandomForestClassifier\n",
    "rf=model(RandomForestClassifier(),X_train,y_train,X_test,y_test)"
   ]
  },
  {
   "cell_type": "code",
   "execution_count": 58,
   "id": "60e40d32",
   "metadata": {},
   "outputs": [
    {
     "name": "stdout",
     "output_type": "stream",
     "text": [
      "              precision    recall  f1-score   support\n",
      "\n",
      "  Irrelevant       0.55      0.22      0.32       321\n",
      "    Negative       0.56      0.37      0.45       545\n",
      "     Neutral       0.60      0.56      0.58       701\n",
      "    Positive       0.49      0.76      0.60       765\n",
      "\n",
      "    accuracy                           0.54      2332\n",
      "   macro avg       0.55      0.48      0.49      2332\n",
      "weighted avg       0.55      0.54      0.52      2332\n",
      "\n",
      "[[ 72  38  65 146]\n",
      " [ 16 204 109 216]\n",
      " [ 12  56 394 239]\n",
      " [ 30  68  87 580]]\n",
      "Accuracy: 53.60205831903945\n",
      "Training Score: 64.2712736629296\n"
     ]
    }
   ],
   "source": [
    "from sklearn.ensemble import GradientBoostingClassifier\n",
    "gb=model(GradientBoostingClassifier(),X_train,y_train,X_test,y_test)"
   ]
  },
  {
   "cell_type": "code",
   "execution_count": 61,
   "id": "a8dd968a",
   "metadata": {},
   "outputs": [
    {
     "name": "stdout",
     "output_type": "stream",
     "text": [
      "              precision    recall  f1-score   support\n",
      "\n",
      "  Irrelevant       0.59      0.12      0.20       321\n",
      "    Negative       0.56      0.22      0.32       545\n",
      "     Neutral       0.58      0.50      0.53       701\n",
      "    Positive       0.44      0.83      0.58       765\n",
      "\n",
      "    accuracy                           0.49      2332\n",
      "   macro avg       0.54      0.42      0.41      2332\n",
      "weighted avg       0.53      0.49      0.45      2332\n",
      "\n",
      "[[ 38  24  63 196]\n",
      " [  6 121 110 308]\n",
      " [  6  41 350 304]\n",
      " [ 14  30  85 636]]\n",
      "Accuracy: 49.099485420240136\n",
      "Training Score: 51.25895975004595\n"
     ]
    }
   ],
   "source": [
    "from sklearn.svm import SVC\n",
    "svc=model(SVC(),X_train,y_train,X_test,y_test)"
   ]
  },
  {
   "cell_type": "code",
   "execution_count": 62,
   "id": "ee0effe5",
   "metadata": {},
   "outputs": [
    {
     "data": {
      "text/html": [
       "<div>\n",
       "<style scoped>\n",
       "    .dataframe tbody tr th:only-of-type {\n",
       "        vertical-align: middle;\n",
       "    }\n",
       "\n",
       "    .dataframe tbody tr th {\n",
       "        vertical-align: top;\n",
       "    }\n",
       "\n",
       "    .dataframe thead th {\n",
       "        text-align: right;\n",
       "    }\n",
       "</style>\n",
       "<table border=\"1\" class=\"dataframe\">\n",
       "  <thead>\n",
       "    <tr style=\"text-align: right;\">\n",
       "      <th></th>\n",
       "      <th>Model</th>\n",
       "      <th>Accuracy_score</th>\n",
       "    </tr>\n",
       "  </thead>\n",
       "  <tbody>\n",
       "    <tr>\n",
       "      <th>1</th>\n",
       "      <td>RF</td>\n",
       "      <td>0.775729</td>\n",
       "    </tr>\n",
       "    <tr>\n",
       "      <th>2</th>\n",
       "      <td>GBoost</td>\n",
       "      <td>0.536021</td>\n",
       "    </tr>\n",
       "    <tr>\n",
       "      <th>3</th>\n",
       "      <td>SVC</td>\n",
       "      <td>0.490995</td>\n",
       "    </tr>\n",
       "    <tr>\n",
       "      <th>0</th>\n",
       "      <td>MNB</td>\n",
       "      <td>0.401801</td>\n",
       "    </tr>\n",
       "  </tbody>\n",
       "</table>\n",
       "</div>"
      ],
      "text/plain": [
       "    Model  Accuracy_score\n",
       "1      RF        0.775729\n",
       "2  GBoost        0.536021\n",
       "3     SVC        0.490995\n",
       "0     MNB        0.401801"
      ]
     },
     "metadata": {},
     "output_type": "display_data"
    },
    {
     "data": {
      "image/png": "[encoded data removed]",
      "text/plain": [
       "<Figure size 576x360 with 1 Axes>"
      ]
     },
     "metadata": {
      "needs_background": "light"
     },
     "output_type": "display_data"
    }
   ],
   "source": [
    "models = pd.DataFrame({\n",
    "    'Model': ['MNB', 'RF', 'GBoost', 'SVC'],\n",
    "    'Accuracy_score': [mnb, rf, gb,svc]\n",
    "})\n",
    "\n",
    "# Sort the dataframe by accuracy score\n",
    "models = models.sort_values(by='Accuracy_score', ascending=False)\n",
    "# Display the table\n",
    "display(models)\n",
    "\n",
    "fig, ax = plt.subplots(figsize=(8, 5))\n",
    "\n",
    "# Plot the line chart\n",
    "# Set different colors for each line\n",
    "colors = ['#1f77b4', '#ff7f0e', '#2ca02c','#d62728']\n",
    "for i in range(len(models) - 1):\n",
    "    ax.plot([models['Model'][i], models['Model'][i+1]],\n",
    "            [models['Accuracy_score'][i], models['Accuracy_score'][i+1]],\n",
    "            marker='o', color=colors[i])\n",
    "\n",
    "# Add labels and title\n",
    "ax.set_xlabel('Model')\n",
    "ax.set_ylabel('Accuracy Score')\n",
    "ax.set_title('Model Comparison')\n",
    "\n",
    "plt.show()"
   ]
  },
  {
   "cell_type": "code",
   "execution_count": 63,
   "id": "91f90b8e",
   "metadata": {},
   "outputs": [
    {
     "data": {
      "text/html": [
       "<div>\n",
       "<style scoped>\n",
       "    .dataframe tbody tr th:only-of-type {\n",
       "        vertical-align: middle;\n",
       "    }\n",
       "\n",
       "    .dataframe tbody tr th {\n",
       "        vertical-align: top;\n",
       "    }\n",
       "\n",
       "    .dataframe thead th {\n",
       "        text-align: right;\n",
       "    }\n",
       "</style>\n",
       "<table border=\"1\" class=\"dataframe\">\n",
       "  <thead>\n",
       "    <tr style=\"text-align: right;\">\n",
       "      <th></th>\n",
       "      <th>Model</th>\n",
       "      <th>Accuracy_score</th>\n",
       "    </tr>\n",
       "  </thead>\n",
       "  <tbody>\n",
       "    <tr>\n",
       "      <th>1</th>\n",
       "      <td>RF</td>\n",
       "      <td>0.775729</td>\n",
       "    </tr>\n",
       "    <tr>\n",
       "      <th>2</th>\n",
       "      <td>GBoost</td>\n",
       "      <td>0.536021</td>\n",
       "    </tr>\n",
       "    <tr>\n",
       "      <th>3</th>\n",
       "      <td>SVC</td>\n",
       "      <td>0.490995</td>\n",
       "    </tr>\n",
       "    <tr>\n",
       "      <th>0</th>\n",
       "      <td>MNB</td>\n",
       "      <td>0.401801</td>\n",
       "    </tr>\n",
       "  </tbody>\n",
       "</table>\n",
       "</div>"
      ],
      "text/plain": [
       "    Model  Accuracy_score\n",
       "1      RF        0.775729\n",
       "2  GBoost        0.536021\n",
       "3     SVC        0.490995\n",
       "0     MNB        0.401801"
      ]
     },
     "metadata": {},
     "output_type": "display_data"
    },
    {
     "data": {
      "image/png": "[encoded data removed]",
      "text/plain": [
       "<Figure size 576x360 with 1 Axes>"
      ]
     },
     "metadata": {},
     "output_type": "display_data"
    }
   ],
   "source": [
    "models = pd.DataFrame({\n",
    "    'Model': ['MNB', 'RF', 'GBoost', 'SVC'],\n",
    "    'Accuracy_score': [mnb, rf, gb, svc]\n",
    "})\n",
    "\n",
    "# Sort the dataframe by accuracy score\n",
    "models = models.sort_values(by='Accuracy_score', ascending=False)\n",
    "# Display the table\n",
    "display(models)\n",
    "\n",
    "fig, ax = plt.subplots(figsize=(8, 5))\n",
    "\n",
    "# Plot the pie chart\n",
    "# Set different colors for each slice\n",
    "colors = ['#1f77b4', '#ff7f0e', '#2ca02c', '#d62728']\n",
    "ax.pie(models['Accuracy_score'], labels=models['Model'], colors=colors, autopct='%1.1f%%', startangle=90)\n",
    "\n",
    "# Add title\n",
    "ax.set_title('Model Comparison')\n",
    "\n",
    "plt.show()"
   ]
  },
  {
   "cell_type": "code",
   "execution_count": null,
   "id": "4b7025eb",
   "metadata": {},
   "outputs": [],
   "source": []
  }
 ],
 "metadata": {
  "kernelspec": {
   "display_name": "Python 3 (ipykernel)",
   "language": "python",
   "name": "python3"
  },
  "language_info": {
   "codemirror_mode": {
    "name": "ipython",
    "version": 3
   },
   "file_extension": ".py",
   "mimetype": "text/x-python",
   "name": "python",
   "nbconvert_exporter": "python",
   "pygments_lexer": "ipython3",
   "version": "3.9.7"
  }
 },
 "nbformat": 4,
 "nbformat_minor": 5
}
